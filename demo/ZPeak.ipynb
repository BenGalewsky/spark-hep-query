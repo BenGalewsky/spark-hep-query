{
 "cells": [
  {
   "cell_type": "code",
   "execution_count": 1,
   "metadata": {},
   "outputs": [
    {
     "name": "stdout",
     "output_type": "stream",
     "text": [
      "['/usr/local/spark/python', '/usr/local/spark/python/lib/py4j-0.10.6-src.zip', '/home/cms.bgalewsk/fnal-column-analysis-tools/p3/lib64/python36.zip', '/home/cms.bgalewsk/fnal-column-analysis-tools/p3/lib64/python3.6', '/home/cms.bgalewsk/fnal-column-analysis-tools/p3/lib64/python3.6/lib-dynload', '/usr/lib64/python3.6', '/usr/lib/python3.6', '', '/home/cms.bgalewsk/fnal-column-analysis-tools/p3/lib/python3.6/site-packages', '/home/cms.bgalewsk/fnal-column-analysis-tools/p3/lib/python3.6/site-packages/fnal_column_analysis_tools-0.2.3-py3.6.egg', '/home/cms.bgalewsk/fnal-column-analysis-tools/p3/lib/python3.6/site-packages/uproot-3.4.9-py3.6.egg', '/home/cms.bgalewsk/fnal-column-analysis-tools/p3/lib/python3.6/site-packages/uproot_methods-0.4.3-py3.6.egg', '/home/cms.bgalewsk/fnal-column-analysis-tools/p3/lib/python3.6/site-packages/scipy-1.2.1-py3.6-linux-x86_64.egg', '/home/cms.bgalewsk/fnal-column-analysis-tools/p3/lib/python3.6/site-packages/numpy-1.16.2-py3.6-linux-x86_64.egg', '/home/cms.bgalewsk/fnal-column-analysis-tools/p3/lib/python3.6/site-packages/matplotlib-2.2.4-py3.6-linux-x86_64.egg', '/home/cms.bgalewsk/fnal-column-analysis-tools/p3/lib/python3.6/site-packages/awkward-0.8.6-py3.6.egg', '/home/cms.bgalewsk/fnal-column-analysis-tools/p3/lib/python3.6/site-packages/cachetools-3.1.0-py3.6.egg', '/home/cms.bgalewsk/fnal-column-analysis-tools/p3/lib/python3.6/site-packages/pytz-2018.9-py3.6.egg', '/home/cms.bgalewsk/fnal-column-analysis-tools/p3/lib/python3.6/site-packages/python_dateutil-2.8.0-py3.6.egg', '/home/cms.bgalewsk/fnal-column-analysis-tools/p3/lib/python3.6/site-packages/pyparsing-2.3.1-py3.6.egg', '/home/cms.bgalewsk/fnal-column-analysis-tools/p3/lib/python3.6/site-packages/kiwisolver-1.0.1-py3.6-linux-x86_64.egg', '/home/cms.bgalewsk/fnal-column-analysis-tools/p3/lib/python3.6/site-packages/cycler-0.10.0-py3.6.egg', '/home/cms.bgalewsk/fnal-column-analysis-tools/p3/lib/python3.6/site-packages', '/home/cms.bgalewsk/fnal-column-analysis-tools/p3/lib/python3.6/site-packages/IPython/extensions', '/home/cms.bgalewsk/.ipython']\n"
     ]
    }
   ],
   "source": [
    "import sys\n",
    "print(sys.path)"
   ]
  },
  {
   "cell_type": "code",
   "execution_count": 2,
   "metadata": {},
   "outputs": [],
   "source": [
    "import pyspark.sql\n",
    "import os\n",
    "import sys\n",
    "\n",
    "from pyspark.sql import functions\n",
    "from pyspark.sql.functions import pandas_udf, PandasUDFType\n",
    "from pyspark.accumulators import AccumulatorParam\n",
    "from collections import OrderedDict\n",
    "\n",
    "import awkward as awk\n",
    "import numpy as np\n",
    "import pandas as pd\n",
    "import re\n",
    "import fnal_column_analysis_tools.hist as hist\n",
    "\n",
    "from pyspark.sql.types import IntegerType\n",
    "\n",
    "from fnal_column_analysis_tools.analysis_objects import JaggedCandidateArray\n",
    "\n",
    "os.environ['PYSPARK_PYTHON'] = sys.executable\n",
    "session = pyspark.sql.SparkSession.builder \\\n",
    "    .appName(\"isrstau-00\") \\\n",
    "    .getOrCreate()\n",
    "sc = session.sparkContext\n",
    "sc.setLogLevel(\"INFO\")\n",
    "sqlContext = session\n"
   ]
  },
  {
   "cell_type": "code",
   "execution_count": 3,
   "metadata": {},
   "outputs": [],
   "source": [
    "df = sqlContext.read.parquet(\"hdfs:///store/user/meloam/nanoaod-parquet-test/DYJetsToLL_M-50_TuneCUETP8M1_13TeV-madgraphMLM-pythia8/RunIISummer16NanoAOD-PUMoriond17_05Feb2018_94X_mcRun2_asymptotic_v2_ext1-v1/NANOAODSIM/\")"
   ]
  },
  {
   "cell_type": "code",
   "execution_count": 4,
   "metadata": {},
   "outputs": [
    {
     "data": {
      "text/plain": [
       "48664884"
      ]
     },
     "execution_count": 4,
     "metadata": {},
     "output_type": "execute_result"
    }
   ],
   "source": [
    "df.count()"
   ]
  },
  {
   "cell_type": "code",
   "execution_count": 5,
   "metadata": {},
   "outputs": [],
   "source": [
    "class FLNAL_Hist_AccumulatorParam(AccumulatorParam):\n",
    "    def zero(self, value):\n",
    "        return value\n",
    "\n",
    "    def addInPlace(self, val1, val2):\n",
    "        val1 += val2\n",
    "        return val1\n"
   ]
  },
  {
   "cell_type": "code",
   "execution_count": 6,
   "metadata": {},
   "outputs": [],
   "source": [
    "import fnal_column_analysis_tools.hist as hist\n",
    "\n",
    "hists = OrderedDict()\n",
    "\n",
    "dataset_axis = hist.Cat(\"dataset\", \"DAS name\")\n",
    "channel_cat_axis = hist.Cat(\"channel\", \"dilepton flavor\")\n",
    "\n",
    "# underflow = negative weight sum, overflow = positive weight sum\n",
    "hists['genw'] = hist.Hist(\"Events\", dataset_axis, hist.Bin(\"genw\", \"Gen weight\", [0.]))\n",
    "\n",
    "hists['lepton_pt'] = hist.Hist(\"Events\", dataset_axis, channel_cat_axis,\n",
    "                               hist.Bin(\"lep0_pt\", \"Leading lepton $p_{T}$ [GeV]\", 50, 0, 500),\n",
    "                               hist.Bin(\"lep1_pt\", \"Trailing lepton $p_{T}$ [GeV]\", 50, 0, 500),\n",
    "                               )\n",
    "hists['zMass'] = sc.accumulator(\n",
    "    hist.Hist(\"Events\", dataset_axis, channel_cat_axis,\n",
    "              hist.Bin(\"mass\", \"$m_{\\ell\\ell}$ [GeV]\", 120, 0, 120),\n",
    "              ),\n",
    "    FLNAL_Hist_AccumulatorParam()\n",
    ")\n",
    "\n",
    "hists['profile'] = hist.Hist(\"RowGroups\",\n",
    "                    hist.Cat(\"op\", \"Operation\", sorting='placement'),\n",
    "                    hist.Bin(\"dt\", \"$\\Delta t$ [$\\mu s$]\", 100, 0, 10),\n",
    "                   )\n"
   ]
  },
  {
   "cell_type": "code",
   "execution_count": 7,
   "metadata": {},
   "outputs": [],
   "source": [
    "df = df.withColumn(\"dataset\", functions.lit(\"my_dataset\"))\n",
    "slim = df.select(df.event,\n",
    "                 df.nElectron,\n",
    "                 df.Electron_pt,\n",
    "                 df.Electron_eta,\n",
    "                 df.Electron_phi,\n",
    "                 df.Electron_mass,\n",
    "                 df.Electron_cutBased,\n",
    "                 df.Electron_pdgId,\n",
    "                 df.Electron_pfRelIso03_all,\n",
    "                 df.Muon_pt,\n",
    "                 df.Muon_eta,\n",
    "                 df.Muon_phi,\n",
    "                 df.Muon_mass,\n",
    "                 df.Muon_tightId.cast(\"array<int >\"),\n",
    "                 df.Muon_pdgId,\n",
    "                 df.Muon_pfRelIso04_all,\n",
    "                 df.dataset\n",
    "                 )\n",
    "\n"
   ]
  },
  {
   "cell_type": "code",
   "execution_count": 8,
   "metadata": {},
   "outputs": [],
   "source": [
    "def compute_zpeak(dataset,\n",
    "                  Electron_pt,\n",
    "                  Electron_eta,\n",
    "                  Electron_phi,\n",
    "                  Electron_mass,\n",
    "                  Electron_cutBased,\n",
    "                  Electron_pdgId,\n",
    "                  Electron_pfRelIso03_all,\n",
    "                  Muon_pt,\n",
    "                  Muon_eta,\n",
    "                  Muon_phi,\n",
    "                  Muon_mass,\n",
    "                  Muon_tightId,\n",
    "                  Muon_pdgId,\n",
    "                  Muon_pfRelIso04_all):\n",
    "    global histograms, hist, dataset_axis, channel_cat_axis\n",
    "\n",
    "    almost_electrons = awk.JaggedArray.zip(\n",
    "        {\"pt\": awk.JaggedArray.fromiter(Electron_pt),\n",
    "         \"eta\": awk.JaggedArray.fromiter(Electron_eta),\n",
    "         \"phi\": awk.JaggedArray.fromiter(Electron_phi),\n",
    "         \"mass\": awk.JaggedArray.fromiter(Electron_mass),\n",
    "         \"cutBased\": awk.JaggedArray.fromiter(Electron_cutBased),\n",
    "         \"pdgId\": awk.JaggedArray.fromiter(Electron_pdgId),\n",
    "         \"pfRelIso03_all\": awk.JaggedArray.fromiter(Electron_pfRelIso03_all)\n",
    "    })\n",
    "\n",
    "    electrons = JaggedCandidateArray.candidatesfromoffsets(almost_electrons.offsets,\n",
    "                                                           pt=almost_electrons[\"pt\"].content,\n",
    "                                                           eta=almost_electrons[\"eta\"].content,\n",
    "                                                           phi=almost_electrons[\"phi\"].content,\n",
    "                                                           mass=almost_electrons[\"mass\"].content,\n",
    "                                                           cutBased=almost_electrons[\"cutBased\"].content,\n",
    "                                                           pdgId=almost_electrons[\"pdgId\"].content,\n",
    "                                                           pfRelIso03_all=almost_electrons[\"pfRelIso03_all\"].content\n",
    "                                                           )\n",
    "\n",
    "    ele = electrons[(electrons.pt > 20) &\n",
    "                    (np.abs(electrons.eta) < 2.5) &\n",
    "                    (electrons.cutBased >= 4)]\n",
    "\n",
    "    almost_muons = awk.JaggedArray.zip(\n",
    "        {\n",
    "            \"pt\": awk.JaggedArray.fromiter(Muon_pt),\n",
    "            \"eta\": awk.JaggedArray.fromiter(Muon_eta),\n",
    "            \"phi\": awk.JaggedArray.fromiter(Muon_phi),\n",
    "            \"mass\": awk.JaggedArray.fromiter(Muon_mass),\n",
    "            \"tightId\": awk.JaggedArray.fromiter(Muon_tightId),\n",
    "            \"pdgId\": awk.JaggedArray.fromiter(Muon_pdgId),\n",
    "            \"pfRelIso04_all\": awk.JaggedArray.fromiter(Muon_pfRelIso04_all)\n",
    "        })\n",
    "\n",
    "    muons = JaggedCandidateArray.candidatesfromoffsets(almost_muons.offsets,\n",
    "                                                       pt=almost_muons[\n",
    "                                                           \"pt\"].content,\n",
    "                                                       eta=almost_muons[\n",
    "                                                           \"eta\"].content,\n",
    "                                                       phi=almost_muons[\n",
    "                                                           \"phi\"].content,\n",
    "                                                       mass=almost_muons[\n",
    "                                                           \"mass\"].content,\n",
    "                                                       tightId=\n",
    "                                                       almost_muons[\n",
    "                                                           \"tightId\"].content,\n",
    "                                                       pdgId=almost_muons[\n",
    "                                                           \"pdgId\"].content,\n",
    "                                                       pfRelIso04_all=\n",
    "                                                       almost_muons[\n",
    "                                                           \"pfRelIso04_all\"].content)\n",
    "\n",
    "    mu = muons[(muons.pt > 20) &\n",
    "               (np.abs(muons.eta) < 2.4) &\n",
    "               (muons.tightId > 0)]\n",
    "\n",
    "    ee = ele.distincts()\n",
    "    mm = mu.distincts()\n",
    "    em = ele.cross(mu)\n",
    "\n",
    "    dileptons = {}\n",
    "    dileptons['ee'] = ee[\n",
    "        (ee.i0.pdgId * ee.i1.pdgId == -11 * 11) & (ee.i0.pt > 25)]\n",
    "    dileptons['mm'] = mm[(mm.i0.pdgId * mm.i1.pdgId == -13 * 13)]\n",
    "    dileptons['em'] = em[(em.i0.pdgId * em.i1.pdgId == -11 * 13)]\n",
    "\n",
    "    channels = {}\n",
    "    channels['ee'] = (ee.counts == 1) & (mu.counts == 0)\n",
    "    channels['mm'] = (mm.counts == 1) & (ele.counts == 0)\n",
    "    channels['em'] = (em.counts == 1) & (ele.counts == 1) & (\n",
    "        mu.counts == 1)\n",
    "\n",
    "    dupe = np.zeros(Muon_pt.size, dtype=bool)\n",
    "    tot = 0\n",
    "\n",
    "    isRealData = True\n",
    "    for channel, cut in channels.items():\n",
    "        zcands = dileptons[channel][cut]\n",
    "        dupe |= cut\n",
    "        tot += cut.sum()\n",
    "        weight = np.array(1.)\n",
    "\n",
    "        zMassHist = hists[\"zMass\"]\n",
    "\n",
    "        zMass = hist.Hist(\"Events\", dataset_axis, channel_cat_axis,\n",
    "                          hist.Bin(\"mass\", \"$m_{\\ell\\ell}$ [GeV]\", 120, 0, 120),\n",
    "                          )\n",
    "\n",
    "        zMass.fill(dataset=dataset[0], channel=channel,\n",
    "                   mass=zcands.mass.flatten(),\n",
    "                   weight=weight.flatten())\n",
    "        zMassHist.add(zMass)\n",
    "\n",
    "        # zMassHist[\"accumulator\"].add(connect_numpy.fromnumpy(zMass))\n",
    "\n",
    "    return pd.Series(np.zeros(Electron_pt.size))\n"
   ]
  },
  {
   "cell_type": "code",
   "execution_count": 14,
   "metadata": {},
   "outputs": [
    {
     "name": "stdout",
     "output_type": "stream",
     "text": [
      "{('my_dataset', 'ee'): array([0.00000000e+00, 7.82000000e+02, 7.82000000e+02, 1.95500000e+03,\n",
      "       3.91000000e+02, 1.17300000e+03, 1.17300000e+03, 0.00000000e+00,\n",
      "       1.17300000e+03, 3.91000000e+02, 1.17300000e+03, 1.56400000e+03,\n",
      "       1.56400000e+03, 1.17300000e+03, 1.17300000e+03, 2.73700000e+03,\n",
      "       1.56400000e+03, 1.95500000e+03, 1.95500000e+03, 1.56400000e+03,\n",
      "       2.34600000e+03, 5.08300000e+03, 3.51900000e+03, 1.95500000e+03,\n",
      "       5.08300000e+03, 2.73700000e+03, 3.51900000e+03, 5.47400000e+03,\n",
      "       6.64700000e+03, 5.86500000e+03, 2.34600000e+03, 6.64700000e+03,\n",
      "       8.21100000e+03, 6.25600000e+03, 4.30100000e+03, 8.60200000e+03,\n",
      "       1.32940000e+04, 1.09480000e+04, 9.77500000e+03, 1.01660000e+04,\n",
      "       1.17300000e+04, 2.07230000e+04, 1.72040000e+04, 2.11140000e+04,\n",
      "       2.93250000e+04, 4.26190000e+04, 6.60790000e+04, 1.06352000e+05,\n",
      "       2.09967000e+05, 4.00775000e+05, 6.77603000e+05, 9.18068000e+05,\n",
      "       9.96268000e+05, 1.08580700e+06, 1.12920800e+06, 1.14914900e+06,\n",
      "       1.17534600e+06, 1.23165000e+06, 1.28599900e+06, 1.29303700e+06,\n",
      "       1.30320300e+06, 1.39743400e+06, 1.41229200e+06, 1.45452000e+06,\n",
      "       1.56165400e+06, 1.61991300e+06, 1.63789900e+06, 1.75676300e+06,\n",
      "       1.83691800e+06, 1.96829400e+06, 2.13016800e+06, 2.31237400e+06,\n",
      "       2.49770800e+06, 2.70767500e+06, 3.04628100e+06, 3.30746900e+06,\n",
      "       3.71293600e+06, 4.30060900e+06, 5.04311800e+06, 6.01866300e+06,\n",
      "       7.31834700e+06, 9.09231400e+06, 1.17933420e+07, 1.57264110e+07,\n",
      "       2.14166340e+07, 3.03846100e+07, 4.34049100e+07, 6.21404570e+07,\n",
      "       8.69724760e+07, 1.15624956e+08, 1.36011305e+08, 1.34105571e+08,\n",
      "       1.07281407e+08, 7.39748540e+07, 4.72417930e+07, 3.01781620e+07,\n",
      "       1.96489230e+07, 1.33960510e+07, 9.68624300e+06, 7.34649900e+06,\n",
      "       5.61827900e+06, 4.53481800e+06, 3.80677600e+06, 3.23122400e+06,\n",
      "       2.71549500e+06, 2.39292000e+06, 2.11609200e+06, 1.85021200e+06,\n",
      "       1.64063600e+06, 1.48149900e+06, 1.35481500e+06, 1.23516900e+06,\n",
      "       1.10653000e+06, 1.02324700e+06, 9.15722000e+05, 8.90307000e+05,\n",
      "       8.16408000e+05, 7.69488000e+05, 7.49938000e+05, 6.48278000e+05]), ('my_dataset', 'mm'): array([5.08300000e+03, 3.51900000e+03, 4.69200000e+03, 1.95500000e+03,\n",
      "       1.17300000e+03, 3.91000000e+02, 1.17300000e+03, 1.17300000e+03,\n",
      "       1.95500000e+03, 1.95500000e+03, 2.34600000e+03, 2.34600000e+03,\n",
      "       1.95500000e+03, 3.12800000e+03, 4.69200000e+03, 4.30100000e+03,\n",
      "       2.34600000e+03, 3.91000000e+03, 5.08300000e+03, 5.47400000e+03,\n",
      "       5.47400000e+03, 6.64700000e+03, 3.51900000e+03, 7.42900000e+03,\n",
      "       8.60200000e+03, 9.38400000e+03, 8.99300000e+03, 1.17300000e+04,\n",
      "       1.44670000e+04, 1.68130000e+04, 2.18960000e+04, 1.64220000e+04,\n",
      "       1.83770000e+04, 2.46330000e+04, 2.69790000e+04, 3.16710000e+04,\n",
      "       3.51900000e+04, 3.94910000e+04, 4.26190000e+04, 5.90410000e+04,\n",
      "       6.52970000e+04, 9.61860000e+04, 1.11826000e+05, 1.56009000e+05,\n",
      "       1.89635000e+05, 2.47894000e+05, 3.06935000e+05, 3.96865000e+05,\n",
      "       5.93929000e+05, 1.32940000e+06, 2.99545100e+06, 3.51430800e+06,\n",
      "       3.67696400e+06, 3.74734400e+06, 3.75242700e+06, 3.79817400e+06,\n",
      "       3.92173000e+06, 3.91000000e+06, 3.94988200e+06, 4.06366300e+06,\n",
      "       4.25017000e+06, 4.40852500e+06, 4.63608700e+06, 4.80499900e+06,\n",
      "       5.04350900e+06, 5.23118900e+06, 5.46618000e+06, 5.88611400e+06,\n",
      "       6.18874800e+06, 6.40027900e+06, 6.90975200e+06, 7.37308700e+06,\n",
      "       8.01393600e+06, 8.61842200e+06, 9.27921200e+06, 1.02664870e+07,\n",
      "       1.13933490e+07, 1.25331140e+07, 1.41080620e+07, 1.58789010e+07,\n",
      "       1.84602830e+07, 2.13818350e+07, 2.54900720e+07, 3.07662260e+07,\n",
      "       3.91570860e+07, 5.11545300e+07, 7.07455850e+07, 1.04732478e+08,\n",
      "       1.64359978e+08, 2.55110296e+08, 3.45396888e+08, 3.49357718e+08,\n",
      "       2.57062168e+08, 1.55723570e+08, 9.02592220e+07, 5.45304240e+07,\n",
      "       3.53131650e+07, 2.41516790e+07, 1.77639120e+07, 1.36232220e+07,\n",
      "       1.06786010e+07, 8.49682100e+06, 7.09195800e+06, 6.12736100e+06,\n",
      "       5.18075000e+06, 4.40774300e+06, 3.93228700e+06, 3.47051600e+06,\n",
      "       3.08147100e+06, 2.83318600e+06, 2.46408200e+06, 2.27992100e+06,\n",
      "       2.05235900e+06, 1.87484500e+06, 1.67934500e+06, 1.64376400e+06,\n",
      "       1.49518400e+06, 1.38922300e+06, 1.29030000e+06, 1.20428000e+06]), ('my_dataset', 'em'): array([  5474.,   1564.,   2346.,   1564.,    391.,    782.,   2737.,\n",
      "            0.,    391.,   1173.,    391.,    782.,   1564.,   1564.,\n",
      "         1955.,   3128.,   1564.,   1564.,   2737.,   2346.,   4301.,\n",
      "         2737.,   3519.,   2346.,   4301.,   5083.,   5083.,   8993.,\n",
      "         4301.,   6647.,   8993.,   9775.,   7820.,  11730.,  14467.,\n",
      "        15249.,  22678.,  13685.,  21896.,  18377.,  30107.,  56304.,\n",
      "        73117.,  91494., 113390., 136850., 155227., 177905., 195891.,\n",
      "       237728., 250631., 265489., 277219., 302634., 292859., 319056.,\n",
      "       320620., 302634., 344862., 319447., 310845., 291686., 295205.,\n",
      "       283866., 263925., 242029., 215832., 217787., 212313., 177123.,\n",
      "       191199., 144670., 150535., 133331., 114954.,  96577.,  85238.,\n",
      "        80546.,  71553.,  60214.,  56304.,  44965.,  42228.,  34799.,\n",
      "        38709.,  32062.,  25024.,  26979.,  21896.,  21505.,  20332.,\n",
      "        16422.,  17986.,  10557.,  12903.,   8211.,  12121.,   8602.,\n",
      "        11730.,   8211.,   8602.,   7038.,   9775.,   7820.,   8993.,\n",
      "         3519.,   7820.,   8211.,   7429.,   6647.,   6256.,   5083.,\n",
      "         3519.,   3519.,   6256.,   3519.,   5083.,   4301.,   3519.,\n",
      "         5083.])}\n"
     ]
    }
   ],
   "source": [
    "from pyspark.sql.types import IntegerType\n",
    "\n",
    "zpeak_udf = pandas_udf(compute_zpeak, IntegerType(), PandasUDFType.SCALAR)\n",
    "numpyret2 = slim.select(zpeak_udf(\n",
    "    \"dataset\",\n",
    "    \"Electron_pt\",\n",
    "    \"Electron_eta\",\n",
    "    \"Electron_phi\",\n",
    "    \"Electron_mass\",\n",
    "    \"Electron_cutBased\",\n",
    "    \"Electron_pdgId\",\n",
    "    \"Electron_pfRelIso03_all\",\n",
    "    \"Muon_pt\",\n",
    "    \"Muon_eta\",\n",
    "    \"Muon_phi\",\n",
    "    \"Muon_mass\",\n",
    "    \"Muon_tightId\",\n",
    "    \"Muon_pdgId\",\n",
    "    \"Muon_pfRelIso04_all\"))\n",
    "\n",
    "# This triggers the accumulators\n",
    "numpyret2.describe()\n",
    "\n",
    "print(hists[\"zMass\"].value.values())\n"
   ]
  },
  {
   "cell_type": "code",
   "execution_count": 11,
   "metadata": {},
   "outputs": [
    {
     "name": "stdout",
     "output_type": "stream",
     "text": [
      "<Hist (dataset,channel,mass) instance at 0x7f46f1fd7390>\n"
     ]
    }
   ],
   "source": [
    "%matplotlib nbagg\n",
    "import matplotlib.pyplot as plt\n",
    "from fnal_column_analysis_tools.hist import plot\n",
    "\n",
    "print(hists['zMass'].value)\n",
    "# plot.plot1d(hists['zMass'].value)\n"
   ]
  },
  {
   "cell_type": "code",
   "execution_count": 13,
   "metadata": {},
   "outputs": [
    {
     "data": {
      "text/plain": [
       "<IPython.core.display.Javascript object>"
      ]
     },
     "metadata": {},
     "output_type": "display_data"
    },
    {
     "data": {
      "text/html": [
       "<img src=\"data:image/png;base64,iVBORw0KGgoAAAANSUhEUgAAAoAAAAHgCAYAAAA10dzkAAAAAXNSR0IArs4c6QAAQABJREFUeAHt3QeYFEXawPF3YXdhlyhIlqgoIkGCIuIJJyh46pnxVCTI6YEJ8FEUxXDqYToPPFEwnfKdIkHPhKinIGLgQBAUiQYUTiVK3oUl9Ndved30zM7uzuzOzM50//t5lulQ3V31q4F9qeqqzrDsRVgQQAABBBBAAAEEAiNQITAlpaAIIIAAAggggAACRoAAkC8CAggggAACCCAQMAECwIBVOMVFAAEEEEAAAQQIAPkOIIAAAggggAACARMgAAxYhVNcBBBAAAEEEECAAJDvAAIIIIAAAgggEDABAsCAVTjFRQABBBBAAAEECAD5DiCAAAIIIIAAAgETIAAMWIVTXAQQQAABBBBAgACQ7wACCCCAAAIIIBAwAQLAgFU4xUUAAQQQQAABBAgA+Q4ggAACCCCAAAIBEyAADFiFU1wEEEAAAQQQQIAAkO8AAggggAACCCAQMAECwIBVOMVFAAEEEEAAAQQIAPkOIIAAAggggAACARMgAAxYhVNcBBBAAAEEEECAAJDvAAIIIIAAAgggEDABAsCAVTjFRQABBBBAAAEECAD5DiCAAAIIIIAAAgETIAAMWIVTXAQQQAABBBBAgACQ7wACCCCAAAIIIBAwAQLAgFU4xUUAAQQQQAABBAgA+Q4ggAACCCCAAAIBEyAADFiFU1wEEEAAAQQQQIAAkO8AAggggAACCCAQMAECwIBVOMVFAAEEEEAAAQQIAPkOIIAAAggggAACARMgAAxYhVNcBBBAAAEEEECAAJDvAAIIIIAAAgggEDABAsCAVTjFRQABBBBAAAEECAD5DiCAAAIIIIAAAgETIAAMWIVTXAQQQAABBBBAgACQ7wACCCCAAAIIIBAwAQLAgFU4xUUAAQQQQAABBAgA+Q4ggAACCCCAAAIBEyAADFiFU1wEEEAAAQQQQIAAkO8AAggggAACCCAQMAECwIBVOMVFAAEEEEAAAQQIAPkOIIAAAggggAACARMgAAxYhVNcBBBAAAEEEECAAJDvAAIIIIAAAgggEDABAsCAVTjFRQABBBBAAAEECAD5DiCAAAIIIIAAAgETIAAMWIVTXAQQQAABBBBAgACQ7wACCCCAAAIIIBAwAQLAgFU4xUUAAQQQQAABBAgA+Q4ggAACCCCAAAIBEyAADFiFU1wEEEAAAQQQQIAAkO8AAggggAACCCAQMAECwIBVOMVFAAEEEEAAAQQIAPkOIIAAAggggAACARMgAAxYhVNcBBBAAAEEEECAAJDvAAIIIIAAAgggEDABAsCAVTjFRQABBBBAAAEECAD5DiCAAAIIIIAAAgETyAxYeeNa3IMHD8pPP/0k1apVk4yMjLhem4shgAACCCCAQGIELMuSnTt3SsOGDaVChWC2hREAluG7pcFf48aNy3AFTkUAAQQQQACB8hJYt26dHHHEEeV1+3K9LwFgGfi15U8X/QJVr169DFfiVAQQQAABBBBIlsCOHTtMA47zezxZ902l+xAAlqE2nG5fDf4IAMsAyakIIIAAAgiUg4Dze7wcbl3utwxmx3e5s5MBBBBAAAEEEECg/AQIAMvPnjsjgAACCCCAAALlIkAAWC7s3BQBBBBAAAEEECg/AZ4BTLC9DjXfv3+/HDhwIMF34vLxEqhYsaJkZmYytU+8QLkOAggggEDKCRAAJrBKCgoK5Oeff5a8vLwE3oVLJ0IgNzdXGjRoINnZ2Ym4PNdEAAEEEECgXAUIABPEr5NEr1mzRrQ1SSea1EAiyKONEsQc98tqi60G7ps2bTL117Jly8BOEhp3XC6IAAIIIJAyAgSACaoKDSI0CNSJorU1iSV9BHJyciQrK0t++OEHEwxWrlw5fTJPThFAAAEEEIhCgEEgUSCVJUlQXzFTFrNUOJd6S4VaIA8IIIAAAokSIABMlCzXRQABBBBAAAEEUlSAADBFKqZHjx4yfPhwNzfNmjWTcePGudv6/OBrr73mbqfjyt133y316tUzz0JqWQYOHCjnnXdeOhaFPCOAAAIIIJDWAjwDmKLV99lnn0mVKlUSmjsNOo8//viQQDNRN1yxYoX8+c9/lldffVVOOukkOeyww9I+oE2UFddFAAEEEEAg0QIEgIkWLuX169SpU8ozU/O0b7/91mTs3HPPTanR0Do/o7au8sxfan5vyBUCCCCAQGIE6AJOjGuxV929e7f0799fqlatauaae+SRRwqlD+8CDk+wbt066du3r9SsWVNq1aolGlh9//33bjKne1Vb3TSYrF69ugwZMsSMatVEevzDDz+URx991ARAGgQ55+v+E088USpVqmTyd+utt5rJrJ2La8vhDTfcICNHjjT3rl+/vmj3blGLHjvnnHPMYQ20ipoO55133pFTTjnFlKl27dpy9tlnixM46sknn3yy3HLLLSG30eladMTu3Llzzf6tW7caW21h1NHXZ555pnz99dfuOc8//7y5/htvvCGtW7c2ZVy7dq17nBUEEEAAAQSCIEAAWA61fPPNN5vg6/XXX5d///vfMmfOHPn888+jzsm+ffukd+/eUq1aNfnoo4/kk08+McFknz593ABPLzZr1izRrle9/ksvvST/+te/TDesHtPAr2vXrnLVVVeZyap1wmqdsubHH3+U3/3ud3LCCSfIF198IRMmTJBnn31W7rvvPj3NXSZNmmS6qOfPny8PPfSQ3HPPPfLee++5x70rN910kzz33HNml95HfyItGhjfeOONsnDhQpN3DRbPP/98M52Opr/88stlypQponP1OcvUqVPNPIu/+c1vzC4NbPV8DfDmzZtn0mp51MxZdGLuBx98UJ555hlZtmyZ1K1b1znEJwIIIGAE9N+ZvH15IT/ef3tgQiDtBewvNEspBbZv366RiKWf4Ut+fr61fPlySz+9y86dOy17Umhr2rRp7u4tW7ZY9txz1rBhw9x9TZs2tcaOHetu633s5+fM9j//+U/rmGOOsex5Bt3je/fuNdd49913zb4BAwZYdsugZQdVbho7mLPsVkfL7vY0+7p37x5yT9152223Fbr2448/Xug8u6XOva6u2AGjZbfOhezzbmjetQzeRfNot1x6d4Ws26175pylS5ea/Rs3brTsV7RZdmufm84OYt37rl692qS3A2L3+ObNm42L420HoibNkiVL3DSRVoqqv0hp2YcAAv4S0H9b+73Vz2rzfJuQnytmXhHy766/Sh2s0hT3+zsoErQAJjmE1y5NnSS6S5cu7p21C9cO6Nztkla0Ze6bb74xLYDajaw/eo09e/aEdJm2b98+ZBJqbfHbtWuXaPdxUYu2GGo6bzdtt27dzHn//e9/3dPatWvnruuKvjbNDtBC9sW6oV21l156qbRo0cJ0WWs3uC5OF612ZZ9xxhny4osvmv36phVt5dOWQV007/oOX6+tdiWrrR5zFn0rS3j+nWN8IoAAAvn782XJpiWFIBZvXCx6jAUBPwhk+qEQQSuDBnGdOnVyAyFv+ZM1eESfu/MuGjDqm0/KsuhzgnbLpzz99NOmW1ev16ZNm5BubQ329PnDxx57TCZPnixt27Y1P7HcV9/04Q1wYzmXtAggECyBOX3nmAL3mNYjWAWntL4XoAUwyVV85JFHmkEL+uycs+jABbv70tks8bNjx45mYIM+u3bUUUeF/NSoUcM9X1sK7a5Md/s///mPaS3UZ/100ZYwHQXrXY499lj32Tlnvz5jqM8bHnHEEc6uuH/a3eCyatUqGT16tPTs2VM0H+oSvuhgF23p1AEjGgA6rX+aTs/Zv3+/eG2d6+qADxYEEECgKAG728993s/bypeTmSP6w4KA3wQIAJNco9pdO3jwYNGBILNnz5avvvrKjMiNZRoSDXoOP/xwM/JXB4FoV6gO9NCWMW83rXY1673sZxFl5syZctddd8l1113nTnmiXawaLOnoX/tZOdOCd80115gu4uuvv15WrlwpOlBFz9PBGbHkMVZWHbWr3bVPPfWU6d5WG71n+KJzI+rk0XfccYfp1tUuY2dp2bKlMdGBLR9//LEZxNKvXz9p1KiR2e+k4xMBBBDwCmjw1//t/tJlchfzQ2ufV4d1vwoQAJZDzT788MOio1a1y7NXr15m6hPt0o120elNdNqTJk2ayAUXXGBavjTQ05Yxne7FWbQlTYOiU089VS655BL5/e9/HzJdi47OrVixopkORbuO9Vk7DZY0WFywYIHoM4Q6dYxeW1vmErlocKkjfBctWmS6fUeMGCHqFGnRAFhbN9VQDbyLjjZWS51CRp9l1H/YtTzhXdbec1hHAIFgCxT1zF+Huh1o/Qv2V8PXpc/Q0S6+LmECC7djxw7RLld7NFFI4KW31GBMW+aaN28ulStXTmAuIl9ap0PZtm0bb9uIzFPi3vKuvxIzSAIEEIibgE73oq1/uugzf06Xr37q88Le4/Mvmy+5WblxuzcXKh+B4n5/l0+Okn9XBoEk35w7IoAAAgikqIAGfQR4KVo5ZCuuAnQBx5WTiyGAAAIIIIAAAqkvQAtg6tdRqXKorzxjQQABBBBAAAEEIgnQAhhJhX0IIIAAAggggICPBQgAfVy5FA0BBBBAAAEEEIgkQAAYSYV9CCCAAAIIIICAjwUIAH1cuRQNAQQQQAABBBCIJMAgkEgqPtq3ccce2bhzb5ElqlutktStnvx5CovMEAcQQAABBBBAIOECBIAJJy7fG7w4f608OuvrIjMxrGdLGXH60UUe5wACCCCAAAII+E+AANB/dRpSosu7NJHTW9eTPfsOyEUT55ljLw/pKpWzKpp1bQFkQQABBBBAAIFgCRAA+ry+tXtXf/IK9rslbd2wuuRmU/UuCCsIIIAAAggETIBBIAGrcIqLAAIIIIAAAggQAPIdSJjAwYMH5f7775fmzZtLTk6OtG/fXl5++WX3fl999ZWceeaZUrVqValXr55cccUVsnnzZvc4KwgggAACCCCQGAH6ARPjmrCrWpYl+fbzfLEu3i5g73os18mxnxvMyMiI+hQN/l544QWZOHGitGzZUubOnSv9+vWTOnXqmGDwtNNOkz/+8Y8yduxYyc/Pl1tuuUX69u0rs2fPjvoeJEQAAQQQQACB2AUIAGM3K9czNPhrfee7ZcpD5/tmler85ff0jvrZwb1798qYMWPk/fffl65du5r7tWjRQj7++GN58sknpXXr1tKhQweTxsnMP/7xD2ncuLGsXr1ajj6akcmOC58IIIAAAgjEW4AAMN6iXM8IfPPNN5KXlyenn356iEhBQYEJ/Pbt2ycffPCB6f4NSWBvfPvttwSA4ShsI4AAAgggEEcBAsA4YibjUtoNqy1xsS7a7eu0/C0c3TPqljzvffTe0S67du0ySd966y1p1KhRyGmVKlWSq6++Ws455xx58MEHQ47pRoMGDQrtYwcCCCCAAAIIxE+AADB+lkm5kj6DV9YpXPT8sl6jpMJqF68GemvXrpXu3bsXSt6xY0d55ZVXpFmzZpKZydewEBA7EEAAAQQQSKAAv3kTiBvkS1erVk1uuukmGTFihOho4FNOOUW2b98un3zyiVSvXl2uvfZaefrpp+XSSy+VkSNHSq1atUS7jadMmSLPPPOMVKwYfWtjkJ0pOwIIIIAAAqURIAAsjRrnRCVw7733mhG/Ohr4u+++k5o1a4q2/N12223SsGFDEwzqyN8zzjhDdNBI06ZNpU+fPlKhArMTRQVMIgQQQAABBEopQABYSjhOK1lAu6uHDRtmfiKl1qlh/vWvf0U6xD4EEEAAAQQQSKAAAWACcVPh0ht37JGNO/eadwE7+Vn+046QdwHrq+JYEEAAAQQQQCA4AgSAPq/rF+evlUdnfR1SyosmznO3h/VsKSNOZ849F4QVBBBAAAEEAiBAAOjzSr68SxM5vXW9IktZt1qlIo9xAAEEEEAAAQT8KUAA6M96dUul3bt08bocrCCAAAIIIICALcBwS74GCCCAAAIIIIBAwATiGgAeOHBA7rjjDmnevLnk5OTIkUceKToViGVZLquu33nnneZtD5qmV69e8vXXoc+o/fLLL3L55Zeb+eJ06pDBgweL82YJ50Jffvml/OY3v5HKlSub98c+9NBDziH3c/r06dKqVSuTpm3btjJz5kz3mK5Ek5eQE9hAAAEEEEAAAQR8IBDXAFBf6zVhwgQZP368rFixwrzmSwOzxx57zKXS7b///e8yceJEmT9/vlSpUkV69+4te/bscdNo8Lds2TJ57733ZMaMGTJ37lzz6jAnwY4dO8zccTpv3KJFi+Thhx+Wu+++W5566ikniXz66admkmENHhcvXiznnXee+fnqq6/cNNHkxU3MCgIIIIAAAggg4BcBuxUsbstZZ51lXXnllSHXu+CCCyw7oDP77DdCWPXr17fsgM1Ns23bNst+ZZj10ksvmX3Lly/X5kLrs88+c9O8/fbblj2nnPXjjz+afU888YR12GGHWfbkwW4ae0Jh65hjjnG3+/bta2l+vEuXLl2sP/3pT2ZXNHnxnhtp3X6zhcmrfoYv+fn5lpZFP8t12fGzZf24uOgfPc5SSCBl6q9QztiBAALxFthdsNtq83wb86Pr4UtJx8PTs536AsX9/k793Mcnh3FtATz55JNl1qxZsnr1ahMff/HFF/Lxxx/LmWeeabbXrFkj69evN92+TgBdo0YNsQMzmTfv16lJ9FO7fTt37uwkMen17RDaYqiLpjn11FMlOzvbTaOtiKtWrZKtW7e6abR72btoGuc+0eTFe66u69sqtPXR+xOeJuW2Fz4n8lT3on/0OAsCCCCAAAIIBEogrqOAb731VhMc6XN3+i5XfSbwL3/5i3meT1U1+NOlXr3QaUl02zmmn3Xr1jXpnD8yMzPNu2K9afQ5Q+/iXFPT2K2D5nrOPidd+H10f3FpnPOcT32l2Z///GdnMz0+Ow8SOcYOwPfni/yjz695vvIdkcycX9er1U+PcpBLBBBAAAEEEIibQFwDwGnTpsmLL74okydPluOOO06WLFkiw4cPN+99HTBgQNwyXV4XGjVqlNx4443u7bUlsHHjxu52Sq5ogKc/BbsPZa9+O5HsKoe2WUMAAQQQQACBQAnENQC8+eabRVsB//CHPxhEHXn7ww8/iLacaQBoP/9n9m/YsMGMAnakdfv44483m5pm48aNziHzuX//ftGRwc75+qnneBdnu6Q03uN6fnF58V5f1+1nFc1P+H62EUAAAQQQQACBdBKI6zOAeXl5os/qeRftCrYHXJhd2m2rAZg+J+gs2oqmz/Z17drV7NJPe2CIGd3rpJk9e7a5hj4rqIum0ZHB+/btc5KYEcP2IBDT/euk8d5H9+moYuc+0eTFvTgrpRLQetfg35kWqH379vLyyy+ba82ZM0fsgT3y7rvvSocOHcy0QaeddpoJ/u1BP3LssceaaYAuu+wy0e8VCwIIIIAAAgjETyCuLYDnnHOOeeavSZMmpgtYp1/529/+JvbIYJNj/YWvXcL33XeftGzZ0gQGOm9gw4YNzRQtmkh/8ffp00euuuoqM1WMBnnXXXedaVXUdLpoUKDP4ukUL/boX9GpXR599FEZO3asOa5/DBs2TLp37y6PPPKI2KOBZcqUKbJw4UJ3qpho8uJeLJVWdE7FfaUIiAo853jXYylbVq7YUVvUZ2jw98ILL5h61PrWoL1fv35Sp04d9xo6fY9OG5Sbmyv2yG3zoy2t+hiBzv14/vnnm2mEtJ5ZEEAAAQQQQCA+AnENAHW+Pw3orrnmGtOSowGbPe2KmfjZye7IkSNl9+7dZl4/bek75ZRT5J133jGTNTtp9DlCDfp69uxpWhQvvPBCM3egc1xHDv/73/+Wa6+9Vjp16iSHH364ucfVV1/tJBEdkaxBxOjRo+W2224zAedrr70mbdq0cdNEkxc3caqsaPA35tdAuNRZ+utRpTv1tp+ifnZQR0yPGTNG3n//fbfVtUWLFmZU+JNPPunO66j/GejWrZvJjwb0+pzlt99+K5pWl4suukg++OADE+ibHfyBAAIIIIAAAmUWiGsAWK1aNRk3bpz5KSpn2vJ2zz33mJ+i0tSqVcsEb0Ud1/3t2rWTjz76qLgkcvHFF5ufohJFk5eizmV/8QLffPON6bo9/fTTQxIWFBSYLl9np9ajs+iIbG0JdII/3a/7FixY4CThEwEEEEAAAQTiIBDXADAO+eESJQloN6y2xMW6aLev0/J30zd2S559nVgXvXeUi/PqvrfeeksaNWoUcpZ28Worny5ZWVnuMQ3Ivdt6QPc5z5C6CVlBAAEEEEAAgTIJEACWia8cTtZn8Mo6hYsGf2W9RglFb926tRkxvXbtWvMsZnhyJwAM3882AggggAACCCRegAAw8caBvIM+DnDTTTfJiBEjTAuePutpv3pHPvnkEzO6V9/jzIIAAggggAAC5SNAAFg+7oG467333mtG/Opo4O+++8684q9jx45mUA7duoH4ClBIBBBAAIEUFSAATNGK8UO29Pk9nY5HfyIt9uusQ3YPHDhQ9Me76DQx+sOCAAIIIIAAAvETIACMn2VqXmmn/f5l/dF3ATvL+i9D3wXM+4AdGT4RQAABBBAIhAABoN+reeFzIh8+EFrKf/Q5tN39VpHfjjq0zRoCCCCAAAII+F6AANDvVdx5kMgxZxZdSlr/irbhCAIIIIAAAj4VIAD0acW6xdIAjyDP5WAFAQQQQAABBEQqgIAAAggggAACCCAQLAECwGDVN6VFAAEEEEAAAQRoAeQ7gAACCCCAAAIIBE2AZwB9XuOb8jbJpvxNRZayTk4dqZNbp8jjHEAAAQQQQAAB/wkQAPqvTkNKNH31dJnwxYSQfd6Noe2HyjXHX+PdxToCCCCAAAII+FyAANDnFXzx0RdLj8Y9ZM/+PTLgnQGmtJP6TJLKmZXNurYAsiCAAAIIIIBAsAQIAH1e39q9qz95+/Lckraq1Upys3LdbVYQQAABBBBAIFgCjAIOVn1TWgQQQAABBBBAgFHAfAcSI9CjRw+5/vrrZfjw4XLYYYdJvXr15Omnn5bdu3fLoEGDpFq1anLUUUfJ22+/bTIwZ84cycjIkHfffVc6dOggOTk5ctppp8nGjRtNmmOPPVaqV68ul112meTlHWrNTEzuuSoCCCCAAAL+FqALOM3q17Isyd+fH3Ouved412O5UE5mjgnSoj1n0qRJMnLkSFmwYIFMnTpVhg4dKq+++qqcf/75ctttt8nYsWPliiuukLVr17qXvPvuu2X8+PGSm5srffv2NT+VKlWSyZMny65du8y5jz32mNxyyy3uOawggAACCCCAQGwCBICxeZV7ag3eukzuUqZ89JjWo1Tnz79sfkzPDrZv315Gjx5t7jVq1Ch54IEH5PDDD5errrrK7LvzzjtlwoQJ8uWXX7r5ue+++6Rbt25me/DgwaLnffvtt9KiRQuz76KLLpIPPviAANAVYwUBBBBAAIHYBXgGMHYzzohSoF27dm7KihUrSu3ataVt27buPu0W1kW7eZ3Fe44e15ZAJ/jTNLrPm945j08EEEAAAQQQiF6AFsDorVIipXbDaktcrIu2HDotf3P6zhG9TqxLrOdkZWWF3EKf8fPu021dDh486KYLP+7d1kR6jje9eyIrCCCAAAIIIBC1AAFg1FSpkVADoLJO4aKBXFmvkRoa5AIBBBBAAAEESiNAF3Bp1DgHAQQQQAABBBBIYwECwDSuPLKOAAIIIIAAAgiURoAu4NKocU6JAjqvX/jy/fffh+8SndbGWbzrum/gwIHmxzmunzpNjP6wIIAAAggggEDpBQgAS2+XFmduytskm/I3mXcBOxle+cvKkHcB66viWBBAAAEEEEAgOAIEgD6v6+mrp8uELyaElHLAOwPc7aHth8o1x1/jbrOCAAIIIIAAAv4XIAD0eR1ffPTF0qNxjyJLWSeH1r8icTiAAAIIIICATwUIAH1asU6xtHuXLl5Hg08EEEAAAQQQUAFGAfM9QAABBBBAAAEEAiZAAJjgCuetFQkGTtDlqbcEwXJZBBBAAIGUEKALOEHVkJ2dLRUqVJCffvpJ6tSpI7rtvPosQbfksnEQ0KloCgoKZNOmTab+tN5YEEAAAQQQ8JsAAWCCalSDv+bNm8vPP/9sgsAE3YbLJkggNzdXmjRpYoLABN2CyyKAAAIIIFBuAgSACaTX1iMNIvbv3y8HDhxI4J24dDwFKlasKJmZmbTYxhOVayGAAAIIpJQAAWCCq0O7fbOyssxPgm/F5RFAAAEEEEAAgagEGAQSFROJEEAAAQQQQAAB/wgQAPqnLikJAggggAACCCAQlQABYFRMJEIAAQQQQAABBPwjQADon7qkJAgggAACCCCAQFQCBIBRMZEIAQQQQAABBBDwjwABoH/qkpIggAACCCCAAAJRCRAARsVEIgQQQAABBBBAwD8CBID+qUtKggACCCCAAAIIRCVAABgVE4kQQAABBBBAAAH/CBAA+qcuKQkCCCCAAAIIIBCVAAFgVEwkQgABBBBAAAEE/CPAu4D9U5eUBAEEEEAgwQL5+/PdO+Rk5oi+750FgXQUIABMx1ojzwgggAAC5SLQY1oP974d6naQSX0mEQS6IqykkwBdwOlUW+QVAQQQQCAuApZlSd6+PPPjbdWLdHFt6dNgL3xZvHGxlHRu+DlsI5AqArQApkpNkA8EEEAAgaQIaPDX/+3+smTTkqjup9282tLnBHv66W0JjOoiJEIgxQQIAFOsQsgOAggggEBiBTSAixT8aSuftvZFWjQIzM3KjXSIfQikpQABYFpWG5lGAAEEEIiHwJy+c9ygj0Ed8RDlGukiQACYLjVFPhFAAAEE4i6gQR8te3Fn5YJpIMAgkDSoJLKIAAIIIIAAAgjEU4AAMJ6aXAsBBBBAAAEEEEgDAQLANKgksogAAggggAACCMRTgAAwnppcCwEEEEAAAQQQSAMBAsA0qCSyiAACCCCAAAIIxFOAADCemlwLAQQQQAABBBBIAwECwDSoJLKIAAIIIIAAAgjEU4AAMJ6aXAsBBBBAAAEEEEgDAQLANKgksogAAggggAACCMRTgAAwnppcCwEEEEAAAQQQSAMBAsA0qCSyiAACCCCAAAIIxFOAADCemlwLAQQQQAABBBBIAwECwDSoJLKIAAIIIIAAAgjEU4AAMJ6aXAsBBBBAAAEEEEgDgbgHgD/++KP069dPateuLTk5OdK2bVtZuHChS2FZltx5553SoEEDc7xXr17y9ddfu8d15ZdffpHLL79cqlevLjVr1pTBgwfLrl27QtJ8+eWX8pvf/EYqV64sjRs3loceeijkuG5Mnz5dWrVqZdJoPmbOnBmSJpq8hJzABgIIIIAAAggg4AOBuAaAW7dulW7duklWVpa8/fbbsnz5cnnkkUfksMMOc6k0UPv73/8uEydOlPnz50uVKlWkd+/esmfPHjeNBn/Lli2T9957T2bMmCFz586Vq6++2j2+Y8cOOeOMM6Rp06ayaNEiefjhh+Xuu++Wp556yk3z6aefyqWXXmqCx8WLF8t5551nfr766is3TTR5cROzggACCCCAAAII+EXAbgWL23LLLbdYp5xySpHXO3jwoFW/fn3LDtjcNNu2bbMqVapkvfTSS2afHTRatq312WefuWnsYNLKyMiw7NZFs++JJ56w7KDS2rt3r5tG733MMce423379rXOOussd1tXunTpYv3pT38y+6LJS8jJETa2b99u8qqfLAgggAAC6SGwu2C31eb5NuZH12Ndynp+rPcjffwF+P1tWXFtAXzjjTekc+fOcvHFF0vdunWlQ4cO8vTTT7ux8po1a2T9+vWi3b7OUqNGDbEDM5k3b57ZpZ/a7avXcRZNX6FCBdNiqPs0zamnnirZ2dlOEtOKuGrVKtFWSCeN9z66T1sanftEkxdzIc8fdsAp2vro/fEcZhUBBBBAAAEEEEgLgbgGgN99951MmDBBWrZsKe+++64MHTpUbrjhBpk0aZLB0OBPl3r16plP5w/ddo7ppwaP3iUzM1Nq1aoVkibSNfQc73UipfEe1/TFpdHj3uX+++8XDVidH332kAUBBBBAAAEEEEg3gbgGgHa3qnTs2FHGjBljWv/0ub2rrrrKPO+XbjCR8jtq1Cixm43dn3Xr1kVKxj4EEEAAAQQQQCClBeIaAOrI3tatW4cU+Nhjj5W1a9eaffbzf+Zzw4YNIWl02zmmnxs3bgw5vn//fjMy2Jsm0jX0pJLSeI9r+kjXcdLoce9iP6toRibr6GTnx3ucdQQQQAABBBBAIB0E4hoA6ghgfQ7Pu6xevdqM1tV9zZs3NwHarFmz3CT6PJ2OBu7atavZp5/2wBAzutdJNHv2bNHWRX1WUBdNoyOD9+3b5yQxI4btQSDuiGNN472PJtRRxc59osmLe3FWEEAAAQQQQAABPwnEc2zNggULLPt5Pesvf/mLZc/tZ7344otWbm6u9cILL7i3eeCBByx7kIf1+uuvW/Zcfta5555r2cGYlZ+f76bp06ePZQ8gsezA0Pr4448t+5lCy57SxT2uI4ftZ/esK664wrKndbGmTJli7vPkk0+6aT755BOTl7/+9a/WihUrrLvuusuyp6exli5d6qaJJi9u4ggrjCKKgMIuBBBAIMUFyjqKt6znpzhPILLH7297UuZ41/Sbb75ptWnTxkztYk/CbNlz84XcQqdfueOOO0wAp9O/9OzZ07JbDUPSbNmyxQR8VatWteyuVmvQoEHWzp07Q9J88cUXZsoZvUajRo0sDebCl2nTpllHH320ZY8Wto477jjrrbfeCkkSTV5CTgjb4AsUBsImAgggkAYCZQ3gynp+GhD5Pov8/rasDK1lP7VoJrMs2n2tI4LtL5J5JjCZ9+ZeCCCAAAKlE8jblyddJv/6SNH8y+ZLblZuTBcq6/kx3YzECRHg97dIXJ8BTEgtcVEEEEAAAQQQQACBuAoQAMaVk4shgAACCCCAAAKpL0AAmPp1RA4RQAABBBBAAIG4ChAAxpWTiyGAAAIIIIAAAqkvQACY+nVEDhFAAAEEEEAAgbgKEADGlZOLIYAAAggggAACqS9AAJj6dUQOEUAAAQQQQACBuAoQAMaVk4shgAACCCCAAAKpL0AAmPp1RA4RQAABBBBAAIG4ChAAxpWTiyGAAAIIIIAAAqkvQACY+nVEDhFAAAEEEEAAgbgKEADGlZOLIYAAAggggAACqS9AAJj6dUQOEUAAAQQQQACBuAoQAMaVk4shgAACCCCAAAKpL0AAmPp1RA4RQAABBBBAAIG4ChAAxpWTiyGAAAIIIIAAAqkvQACY+nVEDhFAAAEEEEAAgbgKEADGlZOLIYAAAggggAACqS9AAJj6dUQOEUAAAQQQQACBuAoQAMaVk4shgAACCCCAAAKpL0AAmPp1RA4RQAABBBBAAIG4ChAAxpWTiyGAAAIIIIAAAqkvQACY+nVEDhFAAAEEEEAAgbgKEADGlZOLIYAAAggggAACqS8QMQA8cOCALFmyRLZu3Zr6JSCHCCCAAAIIIIAAAjEJmABw+PDh8uyzz5oTNfjr3r27dOzYURo3bixz5syJ6YIkRgABBBBAAAEEEEhtARMAvvzyy9K+fXuT0zfffFPWrFkjK1eulBEjRsjtt9+e2iUgdwgggAACCCCAAAIxCZgAcPPmzVK/fn1z4syZM+Xiiy+Wo48+Wq688kpZunRpTBckMQIIIIAAAggggEBqC5gAsF69erJ8+XLR7t933nlHTj/9dJPrvLw8qVixYmqXgNwhgAACCCCAAAIIxCSQqakHDRokffv2lQYNGkhGRob06tXLXGT+/PnSqlWrmC5IYgQQQAABBBBAAIHUFjAB4N133y1t2rSRdevWme7fSpUqmVxr69+tt96a2iUgdwgggAACCCCAAAIxCZgA8P/+7//kkksuESfwc65w6aWXypQpU5xNPhFAAAEEEEAAAQR8IGCeAdQu4O3btxcqzs6dO033cKED7EAAAQQQQAABBBBIWwETAFqWZZ79Cy/Ff//7X6lRo0b4brYRQAABBBBAAAEE0lggUyd81oEfPXv2lMxM0yNsiqMjgnU+wD59+qRx8cg6AggggAACCCCAQLhA5rnnnmte+9a7d2+pWrWqezw7O1uaNWsmF154obuPFQQQQAABBBBAAIH0F8i86667TKCng0AqV66c/iWiBAgggAACCCCAAALFCpg+3wEDBphEBQUFsnHjRjl48GDISU2aNAnZZgMBBBBAAAEEEEAgfQVMAPj111+b1759+umnISVxBofo84AsCCCAAAIIIIAAAv4QMAHgwIEDzQCQGTNmuG8D8UfxKAUCCCCAAAIIIIBAuIAJAJcsWSKLFi3itW/hOmwjgAACCCCAAAI+FDDzALZu3Vo2b97sw+JRJAQQQAABBBBAAIFwARMAPvjggzJy5EiZM2eObNmyRXbs2BHyE34S2wgggAACCCCAAALpK2C6gHv16mVKoJNBexcGgXg1WEcAAQQQQAABBPwhYALADz74wB+loRQIIIAAAggggAACJQqYALB79+4lJiQBAggggAACCCCAgD8EzDOAWpSPPvpI+vXrJyeffLL8+OOPpnT//Oc/5eOPP/ZHSSkFAggggAACCCCAgBEwAeArr7wi+i7gnJwc+fzzz2Xv3r3m4Pbt22XMmDFQIYAAAggggAACCPhIwASA9913n0ycOFGefvppycrKcovXrVs3ExC6O1hBAAEEEEAAAQQQSHsBEwCuWrVKTj311EKFqVGjhmzbtq3QfnYggAACCCCAAAIIpK+ACQDr168v33zzTaFS6PN/LVq0KLSfHQgggAACCCCAAALpK2ACwKuuukqGDRsm8+fPl4yMDPnpp5/kxRdflJtuukmGDh2avqUj5wgggAACCCCAAAKFBMw0MLfeeqscPHhQdCLovLw80x1cqVIlEwBef/31hU5iBwIIIIAAAggggED6CpgAUFv9br/9drn55ptNV/CuXbtE3w9ctWrV9C0ZOUcAAQQQQAABBBCIKGC6gF944QXT8pednW0CvxNPPJHgLyIXOxFAAAEEEEAAgfQXMAHgiBEjpG7dunLZZZfJzJkz5cCBA+lfMkqAAAIIIIAAAgggEFHABIA///yzTJkyxQwA6du3rzRo0ECuvfZa+fTTTyOexE4EEEAAAQQQQACB9BUwAWBmZqacffbZZuTvxo0bZezYsfL999/Lb3/7WznyyCPTt3TkHAEEEEAAAQQQQKCQgBkE4t2bm5trXgu3detW+eGHH2TFihXew6wjgAACCCCAAAIIpLmAaQHUMuj0Lzr33+9+9ztp1KiRjBs3Ts4//3xZtmxZmheR7COAAAIIIIAAAgh4BUwL4B/+8AeZMWOGaOufPgN4xx13SNeuXb3pWEcAAQQQQAABBBDwiYAJACtWrCjTpk0zXb+6zoIAAggggAACCCDgX4EK27dvd7t+H374Ydm2bZtb2i1btph5Ad0drCCAAAIIIJCGApZlSd6+PPOTvz8/DUtAlhGIr0Dm3r173SuOGTPGdAHXrFnT7Nu/f7+sWrXKPc4KAggggAAC6SagwV//t/vLkk1L0i3r5BeBhAm4g0D0DvqXhAUBBBBAAAE/CWiLX6Tgr0PdDpKTmeOnolIWBKIWKDQNTNRnkhABBBBAAIE0E5jTd44b9Gnwl5GRkWYlILsIxEcgM/zLH74dn9twFQQQQAABBMpfQIO+3Kzc8s8IOUCgnAUqDBw4UC644ALzs2fPHhkyZIi7feWVV5Y6ew888ID5n9Xw4cPda+j19RVztWvXlqpVq8qFF14oGzZscI/rytq1a+Wss84yU9Lo+4lvvvlm0WcRvcucOXOkY8eOUqlSJTnqqKPk+eef9x42648//rg0a9ZMKleuLF26dJEFCxaEpIkmLyEnsIEAAggggAACCPhEoIIGWTVq1DA//fr1k4YNG7rbeqx///4xF/Wzzz6TJ598Utq1axdy7ogRI+TNN9+U6dOny4cffig//fSTCTadRAcOHDDBX0FBgXkP8aRJk0xwd+eddzpJZM2aNSaNvqZuyZIlogHmH//4R3n33XfdNFOnTpUbb7xR7rrrLvn888+lffv2Zoobfc2ds5SUFycdnwgggAACCCCAgO8E7IEfcV127txptWzZ0nrvvfes7t27W8OGDTPXt6eXsbKysiw7+HPvZ79mTkedWPPmzTP7Zs6caVWoUMFav369m2bChAlW9erVLXu0stk3cuRI67jjjnOP68oll1xi9e7d29134oknWnZLo7ttB5aWHdha999/v9kXTV7ck4tZsafQMfnXTxYEEEAAgdQU2F2w22rzfBvzo+tlXeJ9vbLmh/NjF+D3t2WFjAKOR3SrXbzahdurV6+Qyy1atEj27dsXsr9Vq1bSpEkTsQNAk1Y/27ZtK/Xq1XPPtQM72bFjh/tKOk0Tfm1N41xDWw/1Xt40dlBptp000eTFzQArCCCAAAIIFCGgI4yd+QX10w5FikjJbgRSSyCuo4CnTJliuly1Czh8sVv1JDs7W5w5Bp3jGuzpMV300xv86T5nu6Q0GiTm5+fL1q1bRbuSnfP0Grro9sqVK816NHkxCcP+0DkTvfMm6j1ZEEAAAQSCK9BjWo+QwuvUMpP6TGJ0cYgKG6koELcWwHXr1ond3WveKqIDL/y42F3I7vOR+txk48aN/VhMyoQAAgggUIyAjiTWQC/SsnjjYuFNI5Fk2JdqAnFrAdRuVR1koaNznUVb4ubOnSvjx483gzS0e1ZfNedtBdRRwPXr1zen6Gf4aF1nlLA3jbPPuY9u288JSk5Ojui7jPUnUhrvNUrKi3Nt7+eoUaPM4BJnn7YAEgQ6GnwigAACwRDQ6dK0lc8b6Ol6eGtgMDQoZboKxK0FsGfPnrJ06VIzMldH5+pP586d5fLLL3fX7UEgMmvWLNdKXzOn07507drV7NNPvYZ3tK49mMQEd61bt3bTeK+hOzWNcw3tZu7UqVPIfQ4ePGi2nTR6vKS8mJuF/aHTzmig6f0JS8ImAggggEAABDQI1PkEnR/eKBKASvdZEePWAlitWjVp06ZNCE+VKlXMnH/O/sGDB5sWtFq1apkg6vrrrzeB20knnWTOO+OMM0QDvSuuuEIeeugh80zg6NGjzdyBGnzpovMUaouiPRpYdJ7C2bNny7Rp0+Stt94yx/UPnQJmwIABJgC1RwTLuHHjZPfu3TJo0CCTRrtvS8qLezFWEEAAAQQQQAABnwnELQCMxmXs2LGiI3J1AmgdTKGjd5944gn3VO26nTFjhgwdOtQEhhpAaiB3zz33uGmaN29ugj2dx+/RRx+VI444Qp555hlzLSeRPS2MbNq0SXT+QB3wcfzxx8s777wTMjCkpLw41+ITAQQQQAABBBDwm0CGzp7jt0Ilqzz6DKC2JtrzCZkWzWTdl/sggAACCEQvoNOzdJncxZww/7L5CXkVXDLuEX2JSVmSAL+/ReL2DGBJ2BxHAAEEEEAAAQQQSA0BAsDUqAdygQACCCCAAAIIJE2AADBp1NwIAQQQQAABBBBIDQECwNSoB3KBAAIIIIAAAggkTYAAMGnU3AgBBBBAAAEEEEgNAQLA1KgHcoEAAggggAACCCRNgAAwadTcCAEEEEAAAQQQSA0BAsDUqAdygQACCCCAAAIIJE2AADBp1NwIAQQQQAABBBBIDQECwNSoB3KBAAIIIIAAAggkTYAAMGnU3AgBBBBAAAEEEEgNAQLA1KgHcoEAAggggAACCCRNIDNpd+JGCCCAAAIIpKiAZVmSv+9ASO5ysipKRkZGyD42EPCLAAGgX2qSciCAAAIIlEpAg7+LJs6TRT9sDTm/c9PDZPqQrgSBISps+EWAANAvNUk5EEAAAQRKJaAtf+HBn15ooR0QbtldILnZFc11aREsFS8npagAAWCKVgzZQgABBBBIvsDC0b3MTTvf937Ip27QImhI+MMnAgwC8UlFUgwEEEAAgbILaGtf7SrZJtgLv5q2CIY/Jxiehm0E0kWAFsB0qSnyiQACCCCQFAEd+KHP/jnBXl7BAXFaBJOSAW6CQBIECACTgMwtEEAAAQTSS0CDwNxsfkWmV62R21gE6AKORYu0CCCAAAIIIICADwQIAH1QiRQBAQQQQAABBBCIRYAAMBYt0iKAAAIIIIAAAj4QIAD0QSVSBAQQQAABBBBAIBYBAsBYtEiLAAIIIIAAAgj4QIAA0AeVSBEQQAABBBBAAIFYBAgAY9EiLQIIIIAAAggg4AMBAkAfVCJFQAABBBBAAAEEYhEgAIxFi7QIIIAAAggggIAPBAgAfVCJFAEBBBBAAAEEEIhFgAAwFi3SIoAAAggggAACPhAgAPRBJVIEBBBAAAEEEEAgFgECwFi0SIsAAggggAACCPhAgADQB5VIERBAAAEEEEAAgVgEMmNJTFoEEEAAAQT8IGBZluTvO2CKklfw66cfykUZEIhWgAAwWinSIYAAAgj4QkCDv4smzpNFP2z1RXkoBAKlEaALuDRqnIMAAgggkLYC2vIXKfjr3PQwycmqmLblIuMIxCJAC2AsWqRFAAEEEPCVwMLRvSQ3+9egT4O/jIwMX5WPwiBQlAABYFEy7EcAAQQQ8L2ABn+52fwq9H1FU8BCAnQBFyJhBwIIIIAAAggg4G8BAkB/1y+lQwABBBBAAAEECgkQABYiYQcCCCCAAAIIIOBvAR588Hf9UjoEEEAAgTgKeOcMZNBIHGG5VNIFCACTTs4NEUAAAQTSVaDzfe+7WddpY6YP6crIYVeElXQSoAs4nWqLvCKAAAIIJF1AW/o02AtfFtoTSTtvEwk/xjYCqS5AC2Cq1xD5QwABBBCIWcC86m1/vjkv/3+fMV/kfyfo3IDa0ucEe9oN7G0JLO11OQ+B8hQgACxPfe6NAAIIIBB3AQ3++r/dX5ZsWhK3a2sQyHyBcePkQikgQBdwClQCWUAAAQQQiJ+AtvhFCv461O0gOZk58bsRV0IgjQVoAUzjyiPrCCCAAALFC8zpO8cN+jT441VvxXtxNDgCBIDBqWtKigACCAROQIO+3KzcwJWbAiNQkgBdwCUJcRwBBBBAAAEEEPCZAAGgzyqU4iCAAAIIIIAAAiUJEACWJMRxBBBAAAEEEEDAZwIEgD6rUIqDAAIIIIAAAgiUJEAAWJIQxxFAAAEEEEAAAZ8JEAD6rEIpDgIIIIAAAgggUJIAAWBJQhxHAAEEEEAAAQR8JkAA6LMKpTgIIIAAAggggEBJAgSAJQlxHAEEEEAAAQQQ8JkAbwLxWYVSHAQQQACB8hXQdxE7C6+fcyT4TDUBAsBUqxHygwACCCCQ1gI9pvVw89+hbgeZ1GcS7yB2RVhJFQG6gFOlJsgHAggggEDaCmhLnwZ74cvijYvF2yIYfpxtBMpLgBbA8pLnvggggAACvhHIyMgwLX1OsKef3pZA3xSUgvhGgADQN1VJQRBAAAEEihKwLEvy9x0wh/MKfv0sKm1p92sQmJuVW9rTOQ+BpAoQACaVm5shgAACCCRbQIO/iybOk0U/bE32rbkfAikrwDOAKVs1ZAwBBBBAIB4C2vIXKfjr3PQwycmqGI9bcA0E0k6AFsC0qzIyjAACCCBQWoGFo3tJbvavQZ8Gf9pty4JAEAUIAINY65QZAQQQCKiABn+52fzqC2j1U2yPAF3AHgxWEUAAAQQQQACBIAjENQC8//775YQTTpBq1apJ3bp15bzzzpNVq1aFOO7Zs0euvfZaqV27tlStWlUuvPBC2bBhQ0iatWvXyllnnSW5ubnmOjfffLPs378/JM2cOXOkY8eOUqlSJTnqqKPk+eefDzmuG48//rg0a9ZMKleuLF26dJEFCxaEpIkmLyEnsIEAAggggAACCPhAIK4B4IcffmiCu//85z/y3nvvyb59++SMM86Q3bt3u1QjRoyQN998U6ZPny6a/qeffpILLrjAPX7gwAET/BUUFMinn34qkyZNMsHdnXfe6aZZs2aNSfPb3/5WlixZIsOHD5c//vGP8u6777pppk6dKjfeeKPcdddd8vnnn0v79u2ld+/esnHjRjdNSXlxE7KCAAIIIIAAAgj4ScAeHp+wxQ62LNvKsgM9c49t27ZZWVlZlh38ufdcsWKFSTNv3jyzb+bMmVaFChWs9evXu2kmTJhgVa9e3dq7d6/ZN3LkSOu4445zj+vKJZdcYtkBnrvvxBNPtOyWRnfbDiythg0bWnYrpdkXTV7ck4tY2b59u8m7frIggAACCKSGwO6C3Vab59uYH13fvXef1fSWGeZH18u6RHO98DyU9Z6cH18Bfn9bVlxbAMMDYxvY7KpVq5b5XLRokWkV7NWrl5u0VatW0qRJE7EDQLNPP9u2bSv16tVz02jL3Y4dO2TZsmVuGu81dKemca6hrYd6L28aO6g0206aaPLiZuB/K3YAavKheXF+wtOwjQACCCCAAAIIpLpAwgLAgwcPmq7Zbt26SZs2bYyD3aon2dnZUrNmzRAXDfb0mC766Q3+dJ+zXVIaDcry8/Nl8+bNol3Jznl6DV3C71NSXn4969Cf+oxjjRo13J/GjRsfOsgaAggggAACCCCQJgIJCwB1oMdXX30lU6ZMSROKkrM5atQo0VZN52fdunUln0QKBBBAAAEEEEAgxQQSMhnSddddJzNmzJC5c+fKEUcc4Ra5fv36ot2z9vN3Ia2AOgpYj+min+GjdZ1Rwt40zj7n4rptPycoOTk5UrFiRfMTKY33GiXlxbm286kjjvWHBQEEEEAAAQQQSGeBuLYA2o9oigZ/r776qsyePVuaN28eYtOpUyexB4HIrFmz3P06TYxO+9K1a1ezTz+XLl0aMlpXRxRrcNe6dWs3jfcaulPTONfQrl29lzeNdknrtpMmmryYm/EHAggggAACRQjkFRyQvIL97o/+HmRBIB0E4toCqN2+kydPltdff93MBeg8s6fPzWnLnH4OHjzYTM+iA0M0qLv++utNUHbSSScZL502RgO9K664Qh566CHzTODo0aPN9DJO69uQIUNk/PjxYo8GliuvvNIEm9OmTZO33nrLNdcpYAYMGCCdO3cWe0SwjBs3zkxHM2jQIJMmmry4F2MFAQQQQACBCAKd73s/ZK++X3j6kF8bNEIOsIFAignENQC0p2sxxevRo0dIMZ977jkZOHCg2Td27FjREbk6AbSOqtXRu0888YSbXrtvtft46NChJjCsUqWKCeTuueceN422LGqwp/P4Pfroo6ab+ZlnnjHXchLZ08LIpk2bROcP1ED0+OOPl3feeSdkYEhJeXGuxScCCCCAAAKOgL5DWAO9hT9sdXa5n7ovf98BEV4x7JqwkpoCGTqzTmpmLfVzpaOOtSVRB4VoayYLAggggEDyBfTXWP7+fPfGut5jWg+zPf+y+fZstNnS+s5fXxSw/J7ecXkXsLmnBnr/W7Qr2GkN1HtIRoF0mdzFzUNuVq6TlM8UEOD3t0hcWwBToE7JAgIIIIBAgAQ0EOv/dn9ZsmlJUkudkZERl0AyqZnmZgh4BOI6CMRzXVYRQAABBBBIuIC29hUV/HWo20FyMnMSngdugEA6CtACmI61Rp4RQAABBAoJzOk7JyTg0+BPW+pYEECgsAABYGET9iCAAAIIpKGABnw8a5eGFUeWy0WALuByYeemCCCAAAIIIIBA+QkQAJafPXdGAAEEEEAAAQTKRYAAsFzYuSkCCCCAAAIIIFB+AgSA5WfPnRFAAAEEEEAAgXIRYBBIubBzUwQQQACBRAp4J2rWSZpZEEAgVIAAMNSDLQQQQACBNBfQ4O+iifNkUYRXtaV50cg+AnEToAs4bpRcCAEEEEAgFQT0XbyRgj99f6++x5cFAQR4FRzfAQQQQAABHwssHN3LfmXbr0GfBn9MDO3jyqZoMQnQBRwTF4kRQJzNAosAABwaSURBVAABBNJJQIO/3Gx+1aVTnZHX5AjQBZwcZ+6CAAIIIIAAAgikjAABYMpUBRlBAAEEEEAAAQSSI0C7eHKcuQsCCCCAQEAF8vfnuyXX9xXzHKLLwUo5ChAAliM+t0YAAQQQ8L9Aj2k93EJ2qNtBJvWZRBDoirBSXgJ0AZeXPPdFAAEEEPCtgLb0abAXvizeuFi8LYLhx9lGIFkCtAAmS5r7IIAAAggERkC7ebWlzwn29NPbEhgYCAqasgIEgClbNWQMAQQQQCCSgHnN2/+eq3MCrEjpynufBoG5WbnlnQ3uj0BEAQLAiCzsRAABBBBIRQEN/vq/3V+WbFqSitkjTwikjQDPAKZNVZFRBBBAAAFt8YsU/OnzdvrcHQsCCEQnQAtgdE6kQgABBBBIMYE5fee4QR/Tq6RY5ZCdlBcgAEz5KiKDCCCAAAKRBDToS8Vn7PIKDrjZ5f3DLgUrKSZAAJhiFUJ2EEAAAQTSW6Dzfe+7Bejc9DCZPqSru80KAqkiwDOAqVIT5AMBBBBAIG0FtKVPg73wZeEPWyV/36EWwfDjbCNQXgK0AJaXPPdFAAEEEPCNgE75oi19TrCn3cDelkDfFJSC+EaAANA3VUlBEEAAgWAKmHkBPa1s3mfwkili5v3L5tdqMs25V+kF+KaW3o4zEUAAAQTKWUCDv4smzpNFdlcrCwIIRC/AM4DRW5ESAQQQQCDFBLTLtajgT5/J02fzWBBAoLAALYCFTdiDAAIIIJCGAgtH95Lc7EMBH1OwpGElkuWkCRAAJo2aGyGAAAIIlEYg2nf/avCXyzN4pSHmnAAKEAAGsNIpMgIIIJAuArz7N11qinymmwDPAKZbjZFfBBBAIEACvPs3QJVNUZMqQAtgUrm5GQIIIIBAaQV4929p5TgPgcICBICFTdiDAAIIIJCCAqn67t9YqbRV01m0TDp/IAsCyRYgAEy2OPdDAAEEEAi0QI9pPdzyd6jbQSb1mUQQ6IqwkiwBngFMljT3QQABBBAIrIC29GmwF74s3rhYvC2C4cfZRiBRArQAJkqW6yKAAAIIIPA/Ae3m1ZY+J9jTT29LIFAIJFuAADDZ4twPAQQQQKBYgWjn/Sv2Iil40LwrOCs3BXNGloIoQAAYxFqnzAgggECKCkQz758JEO1XwOmSV/DrZ4oWp1AeeTtJKtdUsPJGABis+qa0CCCAQEoLaNfokk1LCuVRn5/T5+g0+Lto4rwi3/9b6MQU2NH5vvfdXOj7iacP6epus4JAeQkQAJaXPPdFAAEEEChWINK8f3kF+yMGfxpYaetaqiyaF83Twh+2hmRJt/O19ZKZX0Jc2Ei+AAFg8s25IwIIIIBAFAIlzfu3cHQv+92/vwZ9qda1qs/7aUufCfbssmpXtbclMIrikwSBhAoQACaUl4sjgAACCCRKQIO/3OzU/TVmBn2kcP4SVS9cNz0EUvdvTnr4kUsEEEAAgTIK+HXUbxlZOB2BhAoQACaUl4sjgAACCBQnEM2o3+LO98MxZ25ALQuvhvNDjaZHGQgA06OeyCUCCCDgS4GSRv36stBhhfJOCM2r4cJw2EyYAAFgwmi5MAIIIIBALAKRRv3Gcn46pXVeDaevgvMuzqvhcpkw2svCegIECAATgMolEUAAAQSKFijqmb+iRv2a9Gk08XPRJT90hFfDHbJgrXwECADLx527IoAAAoEUiPWZP02fbhM/l1Sx3reX5GTliAaDLAgkW4AAMNni3A8BBBAIsECsz/zpPHqLwiZTVr5Um/g5lir1zgfIm0FikSNtPAUIAOOpybUQQAABBAoJFNXlG+szf6k88XOhQoftiOXNIIwKDsNjMyECBIAJYeWiCCCAAAIqUFyXb1HP/BUll+oTPxeVb90fy5tBGBVcnCTH4iVQIV4X4joIIIAAAgiogAZ9efvyzM8ve36RJZuWFILR6U40AIy0mPPtd/7qe3+9z8tFSptO+5w3g+jbS5xX2Dn5d0YFO9vOpzMq2NnmE4F4CdACGC9JroMAAgggUGyLXzRdvhr8+W3QRzRfC0YFR6NEmngKEADGU5NrIYAAAgET0IDN+8xacYM8alWuVeKIVz8O+oj2K2FaCCPM/+f11ZZCTceCQFkFCADLKsj5CCCAQEAFNPjr/3b/iF28ShJNi19xdOk86KO4coUf83Zz62CR8ACPZwLDxdiOhwABYDwUuQYCCCAQEAFvi19RrX1Koc/4RdPip2nNNSNM9JzOgz60XNEukaaFcZ4J5E0h0SqSLlYBAsBYxUiPAAIIBEjAG/BpsQe8M0BW/rKykIC3tU8PRttVqdcP4jN/JU0LowNFJvWZ5Hava7DttATSJVzo68eOUggQAJYCjVMQQAABvwpEG/B5yx9La5/3PF0P6jN/2s07fUhXU3510G5gpyUwtEu48DN/TiCo56m9Borh3cZ6jAWB4gQIAIvT4RgCCCDgc4HSBHytarUyQYdDE21rn5Pe3DNCl29QnvlzHDRo05a+8MUJBHW/86YQuoTDldguq0Dhb15Zr8j5CCCAAAIpIxAe4IVnrKguXW+6sgZ83mtpforq8g3KM39eD2c9Xl3Cer1YA3InD3wGS4AAMFj1TWkRQMBHAiUFd1rUaAK8cJJ4Bnx67fAWP7+92zfcrzTb8eoS1nvHu/5KUx7OSX0BAsDUryNyiAACARGIJqDzUpQmuPOe76zHO2DwBnx2g59cPHGeLP95h3M79zNoXb5uwYtYiUeXsF5aB+l0mdzFvUu869e9MCtpLUAAmNbVR+YRQCBVBGIN3iLlO14BXfi1wwOA8ONl6TL0Bnt63eICPu999dm22lWyGbzgRfGsF9clvGV3gXmV3ITTnrVfMlwQYhjpO0RA6IFl1RXIsP/y2v8/YymNwI4dO6RGjRqyfft2qV69emkuwTkIIBBBIB7BVITLJnRXpF+8Cb3h/y5eUnCnyeIZ4HnLFG2wp+e0blDdjHp1XmIRacJj77VZL9x17h0c4viEu+rfnT0H9pjDuv6n96+U1dtWOckjfpb0HSrL9yfiDVNgJ7+/7f872F8QAsBSfhn5ApUSjtMCL6D/7HjnMgsHKa9gKjwf5bFd0i/j8DzF+svZ2P9vBG74tcK39bdDUd234WnDt8MDEwK+cKHYtrXetC4W/rA1thPFklYNKssLf9Qu4egCwvAbxPqd1PNj/V6G3zPR2/z+JgCUxx9/XB5++GFZv369tG/fXh577DE58cQTo/ru8QWKiolECIQI6C+y4l4fFpI4zTZK84vSW0S1EStx3aJlCei8+QxfDw/29DgBX7hS2be9wXvp69L+jmXs+19mLMltNlEqVv657JkLu0JZ/y4kOoDk93fAA8CpU6dK//79ZeLEidKlSxcZN26cTJ8+XVatWiV169YN+zoX3uQLVNiEPQhEEjC/uOw3GejifaNBpLTOvqNrHiNP9vpHyPNNzrFU/axcsXKp81v6X+iJ14gU4HnvSrDn1UjeujcgjHTX6L5T3oAw/CqJCxDD7xS+nYi//5UzK7h/P/X3d4PDGwT6Ea5AdwFr0HfCCSfI+PHjzXfv4MGD0rhxY7n++uvl1ltvDf8+Ftp2AsA1P6yWatWrFTrODgQQ0E4nu9tpzrWyevvXhTjePutN0aBp8KSFsnrDztDjVpa9nRG6j624CLSqX11eGHyi/cswussR4EXnlIqpigsSNUDs9+wCWbm+8AjtQ2UpLkA8lOrQmiUVmz0nGZXXH9qVgmsH8g/IiqErAh0ABnYUcEFBgSxatEhGjRrlfjUrVKggvXr1knnz5rn7vCt79+4V/XEWHfyhS+9XzpaKORWd3XwigEAUAu327JVqj7QzId4/I6WPMjiJdCr7ShDYIHJgTAlpPIfDQnPPEVbTXWCSFiDOf9es7+2W/jJcdEj9OrK6UnZCaTUA1EUD5KAugQ0AN2/eLAcOHJB69eqF1L1ur1xZ+EXnmuj++++XP//5zyHpdWP1jasL7WMHAggUL7DCPjy1+CQcRQCBQAoU1yIZX5AtW7aY2Tzie9X0uFpgA8DSVI+2Ft54443uqdu2bZOmTZvK2rVrA/sFcjHKuKLd6dr9vm7dOqbUKYMljmXACzsVyzCQMmxiWQY8z6k4ejDKuKo9eE2aNJFatWqV8Urpe3pgA8DDDz9cKlasKBs22H0hnkW369ev79lzaLVSpUqiP+GLzgXIPIDhKqXbVkcsS2fnPQtHr0bZ1rEsm5/3bCy9GqVfx7H0duFn6qNfQV0CW/Ls7Gzp1KmTzJo1y617HQSi2127dnX3sYIAAggggAACCPhNILAtgFqR2p07YMAA6dy5s5n7T6eB2b17twwaNMhv9Ux5EEAAAQQQQAABV6Di3fbibgVspU2bNlKzZk35y1/+In/9619N6V988UU55phjopbQbuQePXpIZmagY+movYpLiGVxOtEfwzF6q5JSYlmSUPTHsYzeqriUOBanE9uxoFsGeh7A2L4qpEYAAQQQQAABBPwhENhnAP1RfZQCAQQQQAABBBCIXYAAMHYzzkAAAQQQQAABBNJagAAwrauPzCOAAAIIIIAAArELEADGbsYZCCCAAAIIIIBAWgsQAJay+h5//HFp1qyZVK5cWbp06SILFiwo5ZWCc5q+Su+EE06QatWqSd26deW8886TVatWhQDs2bNHrr32Wqldu7ZUrVpVLrzwwkKTdYecwIY88MADkpGRIcOHD3c1cHQpSlz58ccfpV+/fuY7l5OTI23btpWFCxe65+m7Qu+8805p0KCB6HF9X/jXX3/tHmflVwF9teYdd9whzZs3N05HHnmk3HvvvSHvWsUy8rdl7ty5cs4550jDhg3N3+XXXnstJGE0br/88otcfvnlZiJ9nd1i8ODBsmvXrpDr+H2jOMd9+/bJLbfcYv5+V6lSxVj3799ffvrppxCWIDkSAIZUfXQbU6dONXMI3nXXXfL5559L+/btpXfv3rJx48boLhDQVB9++KEJ7v7zn//Ie++9J/oX8owzzjBzLzokI0aMkDfffFOmT58uml7/cl5wwQXOYT7DBD777DN58sknpV27diFHcAzhKHJj69at0q1bN8nKypK3335bli9fLo888ogcdthh7jkPPfSQ/P3vf5eJEyfK/PnzRX956N93DbJZDgk8+OCDMmHCBBk/frysWLFCdFvtHnvsMTcRli5FyIrOP6u/R7RhIdISjZsGf8uWLTP/ts6YMUM0GLr66qsjXc63+4pzzMvLM7+v9T8p+nv7X//6l2mA+P3vfx/iEShH+38WLDEKnHjiiZbdSuWeZf/P17L/52bZLVzuPlZKFrADZsv+m2fZgZ5JbL9b2bJ/EVt28OeebP8iMWnmzZvn7mPlV4GdO3daLVu2tOxg2urevbs1bNgwcwDH6L8hdouAdcoppxR5gv12IMt+NaT18MMPu2nU134lpPXSSy+5+1ixrLPOOsu68sorQyjs/7xZ9i9Usw/LEJoiN/TfxFdffdU9Ho2b/R8X8++k/R9C9zz7PzSW3TNg2S3c7r4grYQ7Riq73XNn3H744QdzOGiOtACGxP4lbxQUFMiiRYtMN5CTWt8lqN1CdpDi7OIzCgF9Gbcuzsu41VVbBdXSWVq1amVe2I2tI3LoU7vK7V+6IV56FMdDRiWtvfHGG+ZNQBdffLF5LKFDhw7y9NNPu6etWbNG1q9fH2Ks7/7Wxz74TrpMZuXkk082r9JcvXq12f7iiy/k448/ljPPPNNsYxnqFe1WNG76XdRuX32rlbPov6P6u0lbrVkiC+jvIH18Ru10CZojr6+I/L0ocu/mzZtFn3WpV69eSBrdXrlyZcg+NooW0Pcu6zNr2v2mb2TRRX/R6juanb+Mztlqq8dYDglMmTLFdGNoF3D4gmO4SNHb3333nem21NdC3nbbbaKeN9xwg/ke6msine9dpL/vzrGirx6sI7feeqvs2LFD9D9t+oYF/XdS37KkXWq6OF5Yxva9iMZN0+hz1d5F306l/7l2zvceY13MIxz6TOCll15qnptUk6A5EgDyN6FcBLT16quvvjItBOWSgTS+6bp168Tu7jXP+uggJJbSC+h/RLTVZMyYMeYi2gKo30t93k8DQJboBaZNmyb6Ks3JkyfLcccdJ0uWLDH/ydOBDVhG70jKxAtoT1Pfvn3NACV9bjWoC13AMdb84Ycfbv53u2HDhpAzddt+VihkHxuRBa677jrRh5Q/+OADOeKII9xE6qdd7PYzVu4+XcE2hMN08eqAo44dO5p3UOv/9HXAjA5U0HVtYcEx1KyoLR3Z27p165DDxx57rKxdu9bsc/5O8/c9hCjixs033yzaCviHP/zBjLS84oorRAcj6eh/XbCMyFbizmjcNE34IMT9+/eLjmh1zi/xRgFJ4AR/9nN/5j/R1atXd0seNEcCQLfqo1vRLspOnTqZZ12cM7QVYdasWdK1a1dnF58RBOynbEWDP/sBZ5k9e7aZLsKbTF11NKZaOotOE6O/jLF1RER69uwpS5cuNS0s2sqiP9qKpV1tzjqOh7yKW9NHEMKnItJn2Jo2bWpO0ylN9JeC9zup3Zz6XBXfyVBZHWWpz5x5F+0K1n8fdcHSKxP9ejRu+l3U/zjr87/Oov/Gqr0+r8ryq4AT/Ok0Tu+//76Z+slrEzjHSCNj2Fe8gP38lRkF+Pzzz1s6asgeam/Zz61Z9vMDxZ8Y8KNDhw617AforTlz5lg///yz+2P/4nBlhgwZYjVp0sSy//Gy7LnYLPsvpPlxE7ASUcA7ClgT4BiRqdBOHQVot5pa9rNqlv1LwbK7MK3c3FzrhRdecNPa8yyav9+vv/669eWXX1rnnnuuZf9StvLz8900rFiW3c1rNWrUyLJb9y174IJlT7Nh2T0m1siRI10eLF2KkBUd0b948WLzYwck1t/+9jez7oxOjcatT58+lv0Ig2X/58SyB9+YGQLs59tC7uP3jeIc7V4Ry57yxbJ7nSz7P8ru7x/9XbR3716XJkiO2gfOUgoBe24rE6jYLYKWTgtjz21XiqsE6xT9hy3Sz3PPPedC6C/Va665xrLnYTO/iM8//3zzF9VNwEpEgfAAEMeITBF32vNOWvZAJPOfOnsAg/XUU0+FpLNbUSx77jDL7lo3aewWWMtuNQxJw4Zl2S2jZioi/Q+c/Wyq1aJFC+v2228P+eWKZeRviv04TMR/GzWo1iUaty1btlga8NkT6Ft2t6Y1aNAgSwOiIC3FOep/SiL9/tF9ep6zBMkxQwttA7AggAACCCCAAAIIBEQg9IGNgBSaYiKAAAIIIIAAAkEWIAAMcu1TdgQQQAABBBAIpAABYCCrnUIjgAACCCCAQJAFCACDXPuUHQEEEEAAAQQCKUAAGMhqp9AIIIAAAgggEGQBAsAg1z5lRwABBBBAAIFAChAABrLaKTQCCCCAAAIIBFmAADDItU/ZEUAAAQQQQCCQAgSAgax2Co0AAggggAACQRYgAAxy7VN2BBBwBXr06CEZGRnmx35XqLs/2SsDBw508/Haa68l+/bcDwEEAiJAABiQiqaYCCBQssBVV10l9svhxX43sJt4/fr1MmzYMDnqqKPEfset2O8Elm7dusmECRMkLy/PTVfSyjnnnCP2i+YjJvvoo49M0Pfll1/Ko48+avIQMSE7EUAAgTgJZMbpOlwGAQQQSHuB3NxcqV+/vluO7777zgR7NWvWlDFjxkjbtm2lUqVKsnTpUnnqqaekUaNG8vvf/95NX9zK4MGD5cILL5T//ve/csQRR4Qkfe6556Rz587Srl07s79GjRohx9lAAAEE4i1AC2C8RbkeAgjEVeD77783rWOvvPKKnHrqqZKTkyMnnHCCrF27VrTl7KSTThIN3Hr27Cnbtm2L672vueYayczMlIULF0rfvn3l2GOPlRYtWsi5554rb731lmirnrMcPHhQ7r//fmnevLnJY/v27eXll192DsvZZ58tderUkeeff97dpyu7du2S6dOniwaILAgggECyBAgAkyXNfRBAoFQCX3zxhTlPu1y1Fe7TTz+VDRs2SL9+/eSBBx6Q8ePHywcffCCaTlvS4rVs2bJF/v3vf8u1114rVapUiXhZfWbQWTT4+7//+z+ZOHGiLFu2TEaMGGHy+OGHH5okGkj279/fBICWZTmnmeDvwIEDcumll7r7WEEAAQQSLUAAmGhhro8AAmUS0AEZtWrVkqlTp8opp5wiHTp0kO7du8u6detM8KRdp126dDGtgvq8ni47d+4Ubb3TZ+oibZudJfzxzTffiAZqxxxzTEjKww8/XKpWrWp+brnlFnNs7969Jjj9xz/+Ib179zathDqYQ4PUJ5980j3/yiuvlG+//VacoFAPaNCqXcN0+7pMrCCAQBIECACTgMwtEECg9ALasnf++edL7dq13Yto9+8ll1xiun6dnbpPu1910dZCDcoWLFgQcdvsLOUfek0NSo877jhzD72MBos6IOT00093g0MNErVFUAM+Z2nVqpWcfPLJooGiLnqedmPT/esI8YkAAskSIABMljT3QQCBUglosKUtfN5Fg0J99s9Z9uzZI6tWrRJ97k6X2bNnS7NmzeT444+PuG12lvCHjvrVLl69rnfRZwD1mD6L6Cz6HJ8u+lyg5tf5Wb58echzgJpGgz19nlFbKbX178gjjzQtmnqMBQEEEEiWAAFgsqS5DwIIxCywY8cO0UEg2u3rLGvWrJHt27eH7NNRudpdq6N0NRisUKGCaPDVqVOnQtvOdUr61BZHbdHTZwx3795dbPLWrVub0cHaCqnBofencePGIefqYBLN3+TJk00LoXYLe58lDEnMBgIIIJAgAaaBSRAsl0UAgbILaEtfxYoVQ+bl09Y1fSawadOm7g10n7akaberBoMasJ122mkmsPr6669Dtt2Tolh54oknzDQw+pzh3XffbaZp0eDts88+k5UrV5oAUy9TrVo1uemmm8zADx0NrM8qapD6ySefSPXq1WXAgAHu3TSP2n09atQo0QBXnxVkQQABBJItQACYbHHuhwACUQtoAKiDMHQCZmfRfd4WQd2v+5zu302bNonO3zd06FBzSvi2c51oPjWoXLx4sRngoQGbzuGn8wBqi58GfDrQxFnuvfdeM82LjgbW++vcgR07dpTbbrvNSeJ+ajfws88+K7/73e+kYcOG7n5WEEAAgWQJZNjdJofmI0jWXbkPAgggkCCBF1980czbd/vtt5tg7Y033gjZ1ta6SIu+Ck6fGRw3blykw0nfp93Cr776qpx33nlJvzc3RAAB/wvwDKD/65gSIhAYAZ1P7/PPPzdTxNxwww3mWTvvdlZWVrEW2uXrdCMXmzCBB4cMGWLykMBbcGkEEEBAaAHkS4AAAgjYAj/++KPk5+cbiyZNmkh2dna5uGzcuNE8G6g3b9CgQZGTUJdL5rgpAgj4RoAA0DdVSUEQQAABBBBAAIHoBOgCjs6JVAgggAACCCCAgG8ECAB9U5UUBAEEEEAAAQQQiE6AADA6J1IhgAACCCCAAAK+ESAA9E1VUhAEEEAAAQQQQCA6AQLA6JxIhQACCCCAAAII+EaAANA3VUlBEEAAAQQQQACB6AQIAKNzIhUCCCCAAAIIIOAbgf8HHO4UovAJ1P0AAAAASUVORK5CYII=\" width=\"640\">"
      ],
      "text/plain": [
       "<IPython.core.display.HTML object>"
      ]
     },
     "metadata": {},
     "output_type": "execute_result"
    },
    {
     "data": {
      "text/plain": [
       "(<Figure size 640x480 with 1 Axes>,\n",
       " <matplotlib.axes._subplots.AxesSubplot at 0x7f46db98cd30>,\n",
       " {'ee': [(<ErrorbarContainer object of 3 artists>,\n",
       "    <ErrorbarContainer object of 3 artists>)],\n",
       "  'em': [(<ErrorbarContainer object of 3 artists>,\n",
       "    <ErrorbarContainer object of 3 artists>)],\n",
       "  'mm': [(<ErrorbarContainer object of 3 artists>,\n",
       "    <ErrorbarContainer object of 3 artists>)],\n",
       "  'legend': <matplotlib.legend.Legend at 0x7f46db9055c0>})"
      ]
     },
     "execution_count": 13,
     "metadata": {},
     "output_type": "execute_result"
    }
   ],
   "source": [
    "plot.plot1d(hists['zMass'].value.sum('dataset'), overlay='channel',  error_opts={})"
   ]
  },
  {
   "cell_type": "code",
   "execution_count": 15,
   "metadata": {},
   "outputs": [
    {
     "data": {
      "text/plain": [
       "<IPython.core.display.Javascript object>"
      ]
     },
     "metadata": {},
     "output_type": "display_data"
    },
    {
     "data": {
      "text/html": [
       "<img src=\"data:image/png;base64,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\" width=\"640\">"
      ],
      "text/plain": [
       "<IPython.core.display.HTML object>"
      ]
     },
     "metadata": {},
     "output_type": "execute_result"
    },
    {
     "data": {
      "text/plain": [
       "(<Figure size 640x480 with 1 Axes>,\n",
       " <matplotlib.axes._subplots.AxesSubplot at 0x7f46d9148a58>,\n",
       " {'em': [(<ErrorbarContainer object of 3 artists>,\n",
       "    <ErrorbarContainer object of 3 artists>)],\n",
       "  'legend': <matplotlib.legend.Legend at 0x7f46d9057dd8>})"
      ]
     },
     "execution_count": 15,
     "metadata": {},
     "output_type": "execute_result"
    }
   ],
   "source": [
    "plot.plot1d(hists['zMass'].value.sum('dataset')['em'], overlay='channel', error_opts={})"
   ]
  },
  {
   "cell_type": "code",
   "execution_count": null,
   "metadata": {},
   "outputs": [],
   "source": []
  }
 ],
 "metadata": {
  "kernelspec": {
   "display_name": "py3.6",
   "language": "python",
   "name": "py3.6"
  },
  "language_info": {
   "codemirror_mode": {
    "name": "ipython",
    "version": 3
   },
   "file_extension": ".py",
   "mimetype": "text/x-python",
   "name": "python",
   "nbconvert_exporter": "python",
   "pygments_lexer": "ipython3",
   "version": "3.6.7"
  }
 },
 "nbformat": 4,
 "nbformat_minor": 2
}
